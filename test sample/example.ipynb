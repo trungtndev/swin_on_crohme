{
 "cells": [
  {
   "cell_type": "code",
   "metadata": {
    "ExecuteTime": {
     "end_time": "2024-10-06T09:07:27.439054Z",
     "start_time": "2024-10-06T09:07:27.407881Z"
    }
   },
   "source": [
    "import numpy as np\n",
    "from numpy.ma.core import shape\n",
    "\n",
    "from swinArm.datamodule import vocab\n",
    "from swinArm.lit_swinPreArm import LitSwinPreARM\n",
    "from torchvision.transforms import ToTensor, Normalize, Resize, Compose\n",
    "import torch\n",
    "from PIL import Image\n",
    "from IPython.display import display"
   ],
   "outputs": [],
   "execution_count": 33
  },
  {
   "cell_type": "code",
   "metadata": {
    "ExecuteTime": {
     "end_time": "2024-10-02T11:36:04.297746Z",
     "start_time": "2024-10-02T11:36:04.266494Z"
    }
   },
   "source": "ckpt = '../checkpoint/epoch=103-val_loss=0.27032342553138733-step=260051-val_ExpRate=0.5215.ckpt'",
   "outputs": [],
   "execution_count": 71
  },
  {
   "metadata": {
    "ExecuteTime": {
     "end_time": "2024-10-02T11:36:04.898939Z",
     "start_time": "2024-10-02T11:36:04.883287Z"
    }
   },
   "cell_type": "code",
   "source": [
    "comp = Compose([\n",
    "    ToTensor(),\n",
    "    Normalize(mean=[0.485, 0.456, 0.406], std=[0.229, 0.224, 0.225]),\n",
    "    Resize((224, 224)),\n",
    "])"
   ],
   "outputs": [],
   "execution_count": 72
  },
  {
   "cell_type": "code",
   "metadata": {
    "ExecuteTime": {
     "end_time": "2024-10-02T11:36:07.272024Z",
     "start_time": "2024-10-02T11:36:06.182266Z"
    }
   },
   "source": [
    "model = LitSwinPreARM.load_from_checkpoint(ckpt)\n",
    "model = model.eval()\n",
    "device = torch.device(\"cpu\")\n",
    "model = model.to(device)"
   ],
   "outputs": [],
   "execution_count": 73
  },
  {
   "cell_type": "code",
   "metadata": {
    "ExecuteTime": {
     "end_time": "2024-10-06T09:14:01.549345Z",
     "start_time": "2024-10-06T09:14:01.533724Z"
    }
   },
   "source": [
    "img = Image.open('test_10011.bmp')#.convert('RGB')\n",
    "img = img.resize((224, 224))\n",
    "temp = np.array(img)\n",
    "\n",
    "display(img)"
   ],
   "outputs": [
    {
     "data": {
      "text/plain": [
       "<PIL.Image.Image image mode=L size=224x224>"
      ],
      "image/png": "[encoded data removed]"
     },
     "metadata": {},
     "output_type": "display_data"
    }
   ],
   "execution_count": 61
  },
  {
   "metadata": {
    "ExecuteTime": {
     "end_time": "2024-10-06T09:14:03.637382Z",
     "start_time": "2024-10-06T09:14:03.621759Z"
    }
   },
   "cell_type": "code",
   "source": "temp",
   "outputs": [
    {
     "data": {
      "text/plain": [
       "array([[166, 166, 166, ..., 167, 167, 167],\n",
       "       [166, 166, 166, ..., 167, 167, 167],\n",
       "       [165, 165, 165, ..., 167, 167, 167],\n",
       "       ...,\n",
       "       [164, 164, 164, ..., 158, 161, 164],\n",
       "       [164, 164, 164, ..., 160, 163, 165],\n",
       "       [164, 164, 164, ..., 160, 163, 165]], dtype=uint8)"
      ]
     },
     "execution_count": 62,
     "metadata": {},
     "output_type": "execute_result"
    }
   ],
   "execution_count": 62
  },
  {
   "cell_type": "code",
   "metadata": {
    "ExecuteTime": {
     "end_time": "2024-10-02T11:51:16.400226Z",
     "start_time": "2024-10-02T11:51:15.372694Z"
    }
   },
   "source": [
    "img = comp(img)\n",
    "mask = torch.zeros_like(img[-1,:,:], dtype=torch.bool)\n",
    "hyp = model.approximate_joint_search(img.unsqueeze(0), \n",
    "                                     mask.unsqueeze(0))[0]\n",
    "pred_latex = vocab.indices2label(hyp.seq)"
   ],
   "outputs": [],
   "execution_count": 110
  },
  {
   "cell_type": "code",
   "metadata": {
    "ExecuteTime": {
     "end_time": "2024-10-02T11:51:17.062317Z",
     "start_time": "2024-10-02T11:51:17.046696Z"
    }
   },
   "source": [
    "print(pred_latex)"
   ],
   "outputs": [
    {
     "name": "stdout",
     "output_type": "stream",
     "text": [
      "x ^ { 4 } - y x ^ { 2 } + 2 x - 1\n"
     ]
    }
   ],
   "execution_count": 111
  }
 ],
 "metadata": {
  "interpreter": {
   "hash": "45d2f7d923c3019b103888df379576d885b22cd130f1a2056b8ecb4c6b8d3acc"
  },
  "kernelspec": {
   "display_name": "Python 3 (ipykernel)",
   "name": "python3",
   "language": "python"
  },
  "language_info": {
   "codemirror_mode": {
    "name": "ipython",
    "version": 3
   },
   "file_extension": ".py",
   "mimetype": "text/x-python",
   "name": "python",
   "nbconvert_exporter": "python",
   "pygments_lexer": "ipython3",
   "version": "3.7.11"
  },
  "orig_nbformat": 4
 },
 "nbformat": 4,
 "nbformat_minor": 2
}
